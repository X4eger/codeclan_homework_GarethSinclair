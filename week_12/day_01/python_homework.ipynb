{
 "cells": [
  {
   "cell_type": "markdown",
   "id": "bbfe2ed9",
   "metadata": {},
   "source": [
    "Homework\n",
    "\n",
    "This homework should consolidate everything you learnt in class today. "
   ]
  },
  {
   "cell_type": "markdown",
   "id": "951ca231",
   "metadata": {},
   "source": [
    "Question 1\n",
    "\n",
    "Create a list with the following data, and assign it to a variable named shopping"
   ]
  },
  {
   "cell_type": "code",
   "execution_count": null,
   "id": "bcfde144",
   "metadata": {},
   "outputs": [],
   "source": [
    "shopping = [\"spam\", \"ham\", \"eggs\", \"ham\"]\n",
    "shopping"
   ]
  },
  {
   "cell_type": "markdown",
   "id": "c05ee21a",
   "metadata": {},
   "source": [
    "Then do the following:\n",
    "    1. Extract the second element of the list. "
   ]
  },
  {
   "cell_type": "code",
   "execution_count": null,
   "id": "7fde4665",
   "metadata": {},
   "outputs": [],
   "source": [
    "shopping[1]"
   ]
  },
  {
   "cell_type": "markdown",
   "id": "6abb1d3c",
   "metadata": {},
   "source": [
    "    2. Extract the first to third (inclusive) element of the list"
   ]
  },
  {
   "cell_type": "code",
   "execution_count": null,
   "id": "e7b23158",
   "metadata": {},
   "outputs": [],
   "source": [
    "shopping[0:3]"
   ]
  },
  {
   "cell_type": "markdown",
   "id": "f6b1fdbc",
   "metadata": {},
   "source": [
    "    3. Extract only the last element of the list. "
   ]
  },
  {
   "cell_type": "code",
   "execution_count": null,
   "id": "c8f196d6",
   "metadata": {},
   "outputs": [],
   "source": [
    "shopping[3]"
   ]
  },
  {
   "cell_type": "markdown",
   "id": "aba9358d",
   "metadata": {},
   "source": [
    "Question 2\n",
    "\n",
    "Set up a list with the following elements: \n",
    "Croy, Cumbernauld, Falkirk High, Linlithgow, Livingston, Haymarket"
   ]
  },
  {
   "cell_type": "code",
   "execution_count": null,
   "id": "fe7ef634",
   "metadata": {},
   "outputs": [],
   "source": [
    "train_stops = [\"Croy\", \"Cumbernauld\", \"Falkirk High\", \n",
    "               \"Linlithgow\", \"Livingston\", \"Haymarket\"]"
   ]
  },
  {
   "cell_type": "markdown",
   "id": "7213bae3",
   "metadata": {},
   "source": [
    "Perform the following: \n",
    "    1. Append Edinburgh Waverley to the end of the list"
   ]
  },
  {
   "cell_type": "code",
   "execution_count": null,
   "id": "9b813362",
   "metadata": {},
   "outputs": [],
   "source": [
    "train_stops.append(\"Edinburgh Waverley\")\n",
    "train_stops"
   ]
  },
  {
   "cell_type": "markdown",
   "id": "91cf2a0e",
   "metadata": {},
   "source": [
    "    2. Add \"Queen Street\" to the start of the list"
   ]
  },
  {
   "cell_type": "code",
   "execution_count": null,
   "id": "23fe5667",
   "metadata": {},
   "outputs": [],
   "source": [
    "train_stops.insert(0, \"Queen Street\")\n",
    "train_stops"
   ]
  },
  {
   "cell_type": "markdown",
   "id": "14b39042",
   "metadata": {},
   "source": [
    "    3. Find out what index \"Croy\" is at in the list"
   ]
  },
  {
   "cell_type": "code",
   "execution_count": null,
   "id": "eba0f7ff",
   "metadata": {},
   "outputs": [],
   "source": [
    "train_stops[1]"
   ]
  },
  {
   "cell_type": "markdown",
   "id": "88c70056",
   "metadata": {},
   "source": [
    "    4. Add \"Polmont\" at the appropriate point \n",
    "        (between \"Falkirk High\" and \"Linlithgow\")"
   ]
  },
  {
   "cell_type": "code",
   "execution_count": null,
   "id": "dff4b4b2",
   "metadata": {},
   "outputs": [],
   "source": [
    "train_stops.insert(4,\"Polmont\")\n",
    "train_stops"
   ]
  },
  {
   "cell_type": "markdown",
   "id": "0d624aa2",
   "metadata": {},
   "source": [
    "    5. Remove \"Haymarket\" from the list of stops"
   ]
  },
  {
   "cell_type": "code",
   "execution_count": null,
   "id": "1c2c640d",
   "metadata": {},
   "outputs": [],
   "source": [
    "train_stops.remove(\"Haymarket\")\n",
    "train_stops"
   ]
  },
  {
   "cell_type": "markdown",
   "id": "44b82ffb",
   "metadata": {},
   "source": [
    "    6. Remove all items from the stops"
   ]
  },
  {
   "cell_type": "code",
   "execution_count": null,
   "id": "2578d7c0",
   "metadata": {},
   "outputs": [],
   "source": [
    "train_stops.pop()\n",
    "train_stops"
   ]
  },
  {
   "cell_type": "markdown",
   "id": "968d85c7",
   "metadata": {},
   "source": [
    "Question 3\n",
    "\n",
    "Set up the following dictionary:\n",
    "\n",
    "person = {\"name\": \"Steph\", \"age\":\"31\", \"Instructor\" : True}"
   ]
  },
  {
   "cell_type": "code",
   "execution_count": null,
   "id": "e819271c",
   "metadata": {},
   "outputs": [],
   "source": [
    "person = {\"name\": \"Steph\", \"age\":\"31\", \"Instructor\" : True}"
   ]
  },
  {
   "cell_type": "markdown",
   "id": "f940437d",
   "metadata": {},
   "source": [
    "Do the following:\n",
    "    1. Return the keys, values and items from this dictionary"
   ]
  },
  {
   "cell_type": "code",
   "execution_count": null,
   "id": "7650d8f3",
   "metadata": {},
   "outputs": [],
   "source": [
    "person.keys()"
   ]
  },
  {
   "cell_type": "code",
   "execution_count": null,
   "id": "771fe0e2",
   "metadata": {},
   "outputs": [],
   "source": [
    "person.values()"
   ]
  },
  {
   "cell_type": "code",
   "execution_count": null,
   "id": "ffbab0f6",
   "metadata": {},
   "outputs": [],
   "source": [
    "person.items()"
   ]
  },
  {
   "cell_type": "markdown",
   "id": "db1e6087",
   "metadata": {},
   "source": [
    "    2. Take out only the name from it"
   ]
  },
  {
   "cell_type": "code",
   "execution_count": null,
   "id": "1a9099e5",
   "metadata": {},
   "outputs": [],
   "source": [
    "person[\"name\"]"
   ]
  },
  {
   "cell_type": "markdown",
   "id": "db6781af",
   "metadata": {},
   "source": [
    "    3. Add a new key:value pair, which adds the email \"steph@codeclan.com\" to the dictionary"
   ]
  },
  {
   "cell_type": "code",
   "execution_count": null,
   "id": "c616aef9",
   "metadata": {},
   "outputs": [],
   "source": [
    "person[\"email\"] = \"steph@codeclan.com\"\n",
    "person"
   ]
  },
  {
   "cell_type": "markdown",
   "id": "57725102",
   "metadata": {},
   "source": [
    "    4. Delete the job descrption from the dictionary(Hint:look up the del function)"
   ]
  },
  {
   "cell_type": "code",
   "execution_count": null,
   "id": "07731d09",
   "metadata": {},
   "outputs": [],
   "source": [
    "del person[\"Instructor\"]"
   ]
  },
  {
   "cell_type": "code",
   "execution_count": null,
   "id": "0efc2224",
   "metadata": {},
   "outputs": [],
   "source": [
    "person"
   ]
  },
  {
   "cell_type": "markdown",
   "id": "9feafd61",
   "metadata": {},
   "source": [
    "Question 5\n",
    "\n",
    "Write a conditional that takes in two inputs:\n",
    "\n",
    "    .python_is_fun = TRUE\n",
    "    .python_is_weird = TRUE\n",
    "    \n",
    "We want to print \"Woo Python!\" if either python_is_fun is true OR python_is_weird is true OR both python_is_fun and python_is_weird are true. Otherwise, print \"Python is not for me!\". Make sure you test all the combinations."
   ]
  },
  {
   "cell_type": "code",
   "execution_count": null,
   "id": "20845836",
   "metadata": {},
   "outputs": [],
   "source": [
    "python_is_fun = True\n",
    "python_is_weird = True\n",
    "\n",
    "if python_is_fun == True or python_is_weird == True:\n",
    "    print(\"Woo Python!\")\n",
    "elif python_is_fun != True and python_is_weird != True:\n",
    "    print(\"Python is not for me!\")"
   ]
  },
  {
   "cell_type": "markdown",
   "id": "813a3380",
   "metadata": {},
   "source": [
    "Question 6\n",
    "\n",
    "We have a list of chickens and the farmer would like to go through all the chickens, collecting the eggs and getting the total number of eggs collected. "
   ]
  },
  {
   "cell_type": "code",
   "execution_count": null,
   "id": "0371b0fa",
   "metadata": {},
   "outputs": [],
   "source": [
    "chickens = [\n",
    "    {\"name\": \"Margaret\", \"age\": 2, \"eggs\": 0},\n",
    "    {\"name\": \"Hetty\", \"age\": 1, \"eggs\": 2},\n",
    "    {\"name\": \"Henrietta\", \"age\": 3, \"eggs\": 1},\n",
    "    {\"name\": \"Audrey\", \"age\": 2, \"eggs\": 0},\n",
    "    {\"name\": \"Mabel\", \"age\": 5, \"eggs\": 1}\n",
    "           ]"
   ]
  },
  {
   "cell_type": "markdown",
   "id": "d3afb4c2",
   "metadata": {},
   "source": [
    "To write this as a loop, we'd do something like this:"
   ]
  },
  {
   "cell_type": "code",
   "execution_count": null,
   "id": "31855a82",
   "metadata": {},
   "outputs": [],
   "source": [
    "total_eggs = 0\n",
    "\n",
    "for chicken in chickens:\n",
    "    total_eggs += chicken[\"eggs\"]\n",
    "    chicken[\"eggs\"] = 0 # Eggs have been collectd\n",
    "    \n",
    "    print(f\"{total_eggs} eggs collected\")"
   ]
  },
  {
   "cell_type": "markdown",
   "id": "9918beb9",
   "metadata": {},
   "source": [
    "Instead, we want to define a function which passes in a list, so that if we wanted to count eggs of a different list of chickens from another farm, we can use the same function, just pass in a different list. \n",
    "\n",
    "We also want to return the string at the end, instead of using print"
   ]
  },
  {
   "cell_type": "code",
   "execution_count": null,
   "id": "6eeb5892",
   "metadata": {},
   "outputs": [],
   "source": [
    "\n",
    "def egg_count(egg_layers):\n",
    "    num_eggs = 0\n",
    "    for animal in range(len(egg_layers)):\n",
    "        num_eggs += egg_layers[animal][\"eggs\"]\n",
    "    return num_eggs\n"
   ]
  },
  {
   "cell_type": "code",
   "execution_count": null,
   "id": "c421493d",
   "metadata": {},
   "outputs": [],
   "source": [
    "egg_count(chickens)"
   ]
  },
  {
   "cell_type": "markdown",
   "id": "b3a12a25",
   "metadata": {},
   "source": [
    "Extensions"
   ]
  },
  {
   "cell_type": "markdown",
   "id": "c8e2bb04",
   "metadata": {},
   "source": [
    "Question 1\n",
    "\n",
    "Set up the following collection: "
   ]
  },
  {
   "cell_type": "code",
   "execution_count": null,
   "id": "3e373cd4",
   "metadata": {},
   "outputs": [],
   "source": [
    "united_kingdom = [\n",
    "  {\n",
    "    \"name\": \"Scotland\",\n",
    "    \"population\": 5295000,\n",
    "    \"capital\": \"Edinburgh\"\n",
    "  },\n",
    "  {\n",
    "    \"name\": \"Wales\",\n",
    "    \"population\": 3063000,\n",
    "    \"capital\": \"Swansea\"\n",
    "  },\n",
    "  {\n",
    "    \"name\": \"England\",\n",
    "    \"population\": 53010000,\n",
    "    \"capital\": \"London\"\n",
    "  }\n",
    "]"
   ]
  },
  {
   "cell_type": "markdown",
   "id": "e7265835",
   "metadata": {},
   "source": [
    "1. Change the capital of Wales from \"Swansea\" to \"Cardiff\""
   ]
  },
  {
   "cell_type": "code",
   "execution_count": null,
   "id": "2ff995bb",
   "metadata": {},
   "outputs": [],
   "source": [
    "united_kingdom[1][\"capital\"] = \"Cardiff\""
   ]
  },
  {
   "cell_type": "code",
   "execution_count": null,
   "id": "420f6f23",
   "metadata": {},
   "outputs": [],
   "source": [
    "united_kingdom"
   ]
  },
  {
   "cell_type": "markdown",
   "id": "014fffaf",
   "metadata": {},
   "source": [
    "2. Create a dictionary for Northern Ireland and add it to the united_kingdom list( The capital is Belfast and population is 1,811,000"
   ]
  },
  {
   "cell_type": "code",
   "execution_count": null,
   "id": "6434abbc",
   "metadata": {},
   "outputs": [],
   "source": [
    "united_kingdom.append({\"name\": \"Northern Ireland\", \n",
    "                       \"population\": 1811000, \n",
    "                       \"capital\": \"Belfast\"})\n"
   ]
  },
  {
   "cell_type": "code",
   "execution_count": null,
   "id": "eb66b346",
   "metadata": {},
   "outputs": [],
   "source": [
    "united_kingdom"
   ]
  },
  {
   "cell_type": "markdown",
   "id": "20f2c68a",
   "metadata": {},
   "source": [
    "3. Use a loop to print the names of all the countries in the UK"
   ]
  },
  {
   "cell_type": "code",
   "execution_count": null,
   "id": "d6e53b1a",
   "metadata": {},
   "outputs": [],
   "source": [
    "country = 0\n",
    "\n",
    "for country in range(len(united_kingdom)):\n",
    "    print(united_kingdom[country][\"name\"])"
   ]
  },
  {
   "cell_type": "code",
   "execution_count": null,
   "id": "df4012d7",
   "metadata": {
    "scrolled": true
   },
   "outputs": [],
   "source": [
    "united_kingdom.values()"
   ]
  },
  {
   "cell_type": "code",
   "execution_count": null,
   "id": "ff6337a4",
   "metadata": {},
   "outputs": [],
   "source": [
    "type(united_kingdom[0].values())"
   ]
  },
  {
   "cell_type": "code",
   "execution_count": null,
   "id": "dcce753d",
   "metadata": {},
   "outputs": [],
   "source": [
    "united_kingdom[0].values()"
   ]
  },
  {
   "cell_type": "code",
   "execution_count": null,
   "id": "8283f8f7",
   "metadata": {},
   "outputs": [],
   "source": [
    "united_kingdom[0][\"name\"]"
   ]
  },
  {
   "cell_type": "markdown",
   "id": "bd14157a",
   "metadata": {},
   "source": [
    "4. Use a loop to find the total population of the UK"
   ]
  },
  {
   "cell_type": "code",
   "execution_count": null,
   "id": "7741e808",
   "metadata": {},
   "outputs": [],
   "source": [
    "population = 0\n",
    "\n",
    "for pop in range(len(united_kingdom)):\n",
    "    population += united_kingdom[pop][\"population\"]\n",
    "    print(\"United Kingdom Population: \", population)"
   ]
  },
  {
   "cell_type": "code",
   "execution_count": null,
   "id": "311c25b0",
   "metadata": {},
   "outputs": [],
   "source": []
  },
  {
   "cell_type": "code",
   "execution_count": null,
   "id": "ad8c5c3d",
   "metadata": {},
   "outputs": [],
   "source": []
  },
  {
   "cell_type": "code",
   "execution_count": null,
   "id": "53e024b1",
   "metadata": {},
   "outputs": [],
   "source": []
  }
 ],
 "metadata": {
  "kernelspec": {
   "display_name": "Python 3 (ipykernel)",
   "language": "python",
   "name": "python3"
  },
  "language_info": {
   "codemirror_mode": {
    "name": "ipython",
    "version": 3
   },
   "file_extension": ".py",
   "mimetype": "text/x-python",
   "name": "python",
   "nbconvert_exporter": "python",
   "pygments_lexer": "ipython3",
   "version": "3.9.12"
  },
  "varInspector": {
   "cols": {
    "lenName": 16,
    "lenType": 16,
    "lenVar": 40
   },
   "kernels_config": {
    "python": {
     "delete_cmd_postfix": "",
     "delete_cmd_prefix": "del ",
     "library": "var_list.py",
     "varRefreshCmd": "print(var_dic_list())"
    },
    "r": {
     "delete_cmd_postfix": ") ",
     "delete_cmd_prefix": "rm(",
     "library": "var_list.r",
     "varRefreshCmd": "cat(var_dic_list()) "
    }
   },
   "types_to_exclude": [
    "module",
    "function",
    "builtin_function_or_method",
    "instance",
    "_Feature"
   ],
   "window_display": false
  }
 },
 "nbformat": 4,
 "nbformat_minor": 5
}
